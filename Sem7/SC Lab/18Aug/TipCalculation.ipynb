{
 "cells": [
  {
   "cell_type": "code",
   "execution_count": 27,
   "id": "3256bc42-50f2-46d1-80c1-c823f00f1ecd",
   "metadata": {},
   "outputs": [
    {
     "name": "stdin",
     "output_type": "stream",
     "text": [
      "Rate our staff:  9\n",
      "Rate our food quality:  0\n"
     ]
    },
    {
     "name": "stdout",
     "output_type": "stream",
     "text": [
      "Tip: 11.25\n",
      "HIGH\n"
     ]
    }
   ],
   "source": [
    "##### INPUTS: service staff rating, food taste rating\n",
    "#OUTPUTS: output the % of tip and the quality of the food\n",
    "\n",
    "\n",
    "# Service Ratings\n",
    "# 0 - 4 POOR\n",
    "# 3 - 8 ACCEPTABLE\n",
    "# 7 - 10 AMAZING\n",
    "\n",
    "#Food Quality\n",
    "# 0 - 4 BAD\n",
    "# 3 - 8 DECENT\n",
    "# 7 - 10 GREAT\n",
    "\n",
    "#Tip Range\n",
    "# 0 - 12.5 LOW\n",
    "# 10 - 18 AVERAGE\n",
    "# 16 - 25 BEST\n",
    "\n",
    "def fetchServiceRating(serviceRating) :\n",
    "    if serviceRating<0 : \n",
    "        return -1\n",
    "    elif serviceRating>=0 and serviceRating<=3.5:\n",
    "        return 0\n",
    "    elif serviceRating>3.5 and serviceRating<=7.5:\n",
    "        return 1\n",
    "    elif serviceRating>7.5 and serviceRating<=10:\n",
    "        return 2\n",
    "    return 3\n",
    "\n",
    "def fetchFoodQuality(foodQuality) :\n",
    "    if foodQuality<0 :\n",
    "        return -1\n",
    "    elif foodQuality>=0 and foodQuality<=3.5:\n",
    "        return 0\n",
    "    elif foodQuality>3.5 and foodQuality<=7.5:\n",
    "        return 1\n",
    "    elif foodQuality>7.5 and foodQuality<=10:\n",
    "        return 2\n",
    "    return 3\n",
    "\n",
    "def fetchTipRange(tipRange):\n",
    "    if tipRange<0:\n",
    "        return -1\n",
    "    elif tipRange>=0 and tipRange<=11.25:\n",
    "        return 0\n",
    "    elif tipRange>11.25 and tipRange<=17:\n",
    "        return 1\n",
    "    elif tipRange>17 and tipRange<=25:\n",
    "        return 2\n",
    "    return 3\n",
    "    \n",
    "def main():\n",
    "    serviceRating = float(input(\"Rate our staff: \"))\n",
    "    foodQuality = float(input(\"Rate our food quality: \"))\n",
    "    tip = (serviceRating+foodQuality)/2\n",
    "    \n",
    "    serviceRating = fetchServiceRating(serviceRating)\n",
    "    foodQuality = fetchFoodQuality(foodQuality)\n",
    "\n",
    "    #calculate tip range\n",
    "     # 0 - 12.5 - 25\n",
    "     # 0 - 5 - 10\n",
    "    # tip = (serviceRating+foodQuality)/2\n",
    "    # print(f\"Tip: {tip}\")\n",
    "    \n",
    "    tip = tip*2.5\n",
    "    print(f\"Tip: {tip}\")\n",
    "    if serviceRating>=2 or foodQuality>=2:\n",
    "        print(\"HIGH\")\n",
    "    elif serviceRating==1:\n",
    "        print(\"MEDIUM\")\n",
    "    elif serviceRating==0 and foodQuality==0:\n",
    "        print(\"LOW\")\n",
    "    else:\n",
    "        print(\"EAT AGAIN\")\n",
    "\n",
    "    # Custom tip calculcation\n",
    "    # tip = fetchTipRange(tip)\n",
    "    # match tip:\n",
    "    #     case 0: \n",
    "    #         print(\"LOW\")\n",
    "    #     case 1:\n",
    "    #         print(\"MEDIUM\")\n",
    "    #     case 2:\n",
    "    #         print(\"HIGH\")\n",
    "    #     case 3:\n",
    "    #         print(\"BEST\")\n",
    "\n",
    "\n",
    "if __name__==\"__main__\" :\n",
    "        main()\n"
   ]
  },
  {
   "cell_type": "code",
   "execution_count": null,
   "id": "1b35e0f6-b8ab-4452-9540-0d5f715bfe27",
   "metadata": {},
   "outputs": [],
   "source": []
  },
  {
   "cell_type": "code",
   "execution_count": null,
   "id": "15676f73-75f7-43f8-a1fd-f095a125bd80",
   "metadata": {},
   "outputs": [],
   "source": []
  },
  {
   "cell_type": "code",
   "execution_count": null,
   "id": "98b246f1-1db7-4c23-ad8e-1d0bb78bca76",
   "metadata": {},
   "outputs": [],
   "source": []
  },
  {
   "cell_type": "code",
   "execution_count": null,
   "id": "ddee9f31-f89b-42d1-8388-ffc88d3e703b",
   "metadata": {},
   "outputs": [],
   "source": []
  }
 ],
 "metadata": {
  "kernelspec": {
   "display_name": "Python 3 (ipykernel)",
   "language": "python",
   "name": "python3"
  },
  "language_info": {
   "codemirror_mode": {
    "name": "ipython",
    "version": 3
   },
   "file_extension": ".py",
   "mimetype": "text/x-python",
   "name": "python",
   "nbconvert_exporter": "python",
   "pygments_lexer": "ipython3",
   "version": "3.10.12"
  }
 },
 "nbformat": 4,
 "nbformat_minor": 5
}
