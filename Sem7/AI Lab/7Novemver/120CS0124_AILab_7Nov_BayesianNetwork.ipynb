{
  "nbformat": 4,
  "nbformat_minor": 0,
  "metadata": {
    "colab": {
      "provenance": []
    },
    "kernelspec": {
      "name": "python3",
      "display_name": "Python 3"
    },
    "language_info": {
      "name": "python"
    }
  },
  "cells": [
    {
      "cell_type": "code",
      "execution_count": 2,
      "metadata": {
        "colab": {
          "base_uri": "https://localhost:8080/"
        },
        "id": "mURX-pFl-Q1S",
        "outputId": "afe07d1c-ca03-4aa6-9578-a3d392ff95c2"
      },
      "outputs": [
        {
          "output_type": "stream",
          "name": "stdout",
          "text": [
            "Collecting pomegranate==v0.14.9\n",
            "  Downloading pomegranate-0.14.9.tar.gz (4.7 MB)\n",
            "\u001b[2K     \u001b[90m━━━━━━━━━━━━━━━━━━━━━━━━━━━━━━━━━━━━━━━━\u001b[0m \u001b[32m4.7/4.7 MB\u001b[0m \u001b[31m17.3 MB/s\u001b[0m eta \u001b[36m0:00:00\u001b[0m\n",
            "\u001b[?25h  Installing build dependencies ... \u001b[?25l\u001b[?25hdone\n",
            "  Getting requirements to build wheel ... \u001b[?25l\u001b[?25hdone\n",
            "  Preparing metadata (pyproject.toml) ... \u001b[?25l\u001b[?25hdone\n",
            "Collecting cython<3.0.0,>=0.22.1 (from pomegranate==v0.14.9)\n",
            "  Using cached Cython-0.29.36-cp310-cp310-manylinux_2_17_x86_64.manylinux2014_x86_64.manylinux_2_24_x86_64.whl (1.9 MB)\n",
            "Requirement already satisfied: numpy>=1.20.0 in /usr/local/lib/python3.10/dist-packages (from pomegranate==v0.14.9) (1.23.5)\n",
            "Requirement already satisfied: joblib>=0.9.0b4 in /usr/local/lib/python3.10/dist-packages (from pomegranate==v0.14.9) (1.3.2)\n",
            "Requirement already satisfied: networkx>=2.4 in /usr/local/lib/python3.10/dist-packages (from pomegranate==v0.14.9) (3.2)\n",
            "Requirement already satisfied: scipy>=0.17.0 in /usr/local/lib/python3.10/dist-packages (from pomegranate==v0.14.9) (1.11.3)\n",
            "Requirement already satisfied: pyyaml in /usr/local/lib/python3.10/dist-packages (from pomegranate==v0.14.9) (6.0.1)\n",
            "Building wheels for collected packages: pomegranate\n",
            "  Building wheel for pomegranate (pyproject.toml) ... \u001b[?25l\u001b[?25hdone\n",
            "  Created wheel for pomegranate: filename=pomegranate-0.14.9-cp310-cp310-linux_x86_64.whl size=18331316 sha256=05f53ad1a7462a2b30b7fc38344c2efeb0a300e8dad4dd07355a7b4642b13294\n",
            "  Stored in directory: /root/.cache/pip/wheels/14/e7/b2/189a2d351ac4ae073cfa17ce9d56936d59af5712a18028fc31\n",
            "Successfully built pomegranate\n",
            "Installing collected packages: cython, pomegranate\n",
            "  Attempting uninstall: cython\n",
            "    Found existing installation: Cython 3.0.4\n",
            "    Uninstalling Cython-3.0.4:\n",
            "      Successfully uninstalled Cython-3.0.4\n",
            "Successfully installed cython-0.29.36 pomegranate-0.14.9\n"
          ]
        }
      ],
      "source": [
        "pip install pomegranate==v0.14.9"
      ]
    },
    {
      "cell_type": "code",
      "source": [
        "import math\n",
        "from pomegranate import *\n",
        "\n",
        "burglary = DiscreteDistribution({'1': 0.001, '0': 0.999})\n",
        "earthquake = DiscreteDistribution({'1': 0.002, '0': 0.998})"
      ],
      "metadata": {
        "id": "IjG6lnlJ-TFm"
      },
      "execution_count": 10,
      "outputs": []
    },
    {
      "cell_type": "code",
      "source": [
        "alarm = ConditionalProbabilityTable(\n",
        "        [[ '0', '0', '1', 0.001 ],\n",
        "         [ '0', '1', '1', 0.29 ],\n",
        "         [ '1', '0', '1', 0.94 ],\n",
        "         [ '1', '1', '1', 0.95 ],\n",
        "         [ '0', '0', '0', 0.999 ],\n",
        "         [ '0', '1', '0', 0.71 ],\n",
        "         [ '1', '0', '0', 0.06 ],\n",
        "         [ '1', '1', '0', 0.05 ]],[burglary,earthquake])\n",
        "johncalls = ConditionalProbabilityTable(\n",
        "        [[ '0', '0', 0.95 ],\n",
        "         [ '0', '1', 0.05 ],\n",
        "         [ '1', '0', 0.10 ],\n",
        "         [ '1', '1', 0.90 ]],[alarm])\n",
        "marrycalls = ConditionalProbabilityTable(\n",
        "        [[ '0', '0', 0.99 ],\n",
        "         [ '0', '1', 0.01 ],\n",
        "         [ '1', '0', 0.30 ],\n",
        "         [ '1', '1', 0.70 ]],[alarm])"
      ],
      "metadata": {
        "id": "EJyB_aMZ-j_B"
      },
      "execution_count": 11,
      "outputs": []
    },
    {
      "cell_type": "code",
      "source": [
        "Burglary = State(burglary, name='Burglary')\n",
        "Earthquake = State(earthquake, name='Earthquake')\n",
        "Alarm = State(alarm, name='Alarm')\n",
        "JohnCalls = State(johncalls, name='JohnCalls')\n",
        "MarryCalls = State(marrycalls, name='MarryCalls')"
      ],
      "metadata": {
        "id": "wATl9IrbAZM4"
      },
      "execution_count": 12,
      "outputs": []
    },
    {
      "cell_type": "code",
      "source": [
        "model = BayesianNetwork('Assignment1')\n",
        "model.add_states(Burglary,Earthquake,Alarm,JohnCalls,MarryCalls)\n",
        "\n",
        "model.add_edge(Burglary,Alarm)\n",
        "model.add_edge(Earthquake,Alarm)\n",
        "model.add_edge(Alarm,JohnCalls)\n",
        "model.add_edge(Alarm,MarryCalls)\n",
        "\n",
        "model.bake()"
      ],
      "metadata": {
        "id": "m2Bu4HPlA3do"
      },
      "execution_count": 13,
      "outputs": []
    },
    {
      "cell_type": "code",
      "source": [
        "# P(JC|A)\n",
        "pja = model.predict_proba([{'Alarm':'1'}])[0][3].parameters[0]['1']\n",
        "pja"
      ],
      "metadata": {
        "colab": {
          "base_uri": "https://localhost:8080/"
        },
        "id": "xFH8LfDaBaSf",
        "outputId": "6ed536e2-8ec5-496d-dfab-06dfd150df40"
      },
      "execution_count": 22,
      "outputs": [
        {
          "output_type": "execute_result",
          "data": {
            "text/plain": [
              "0.8999999999999998"
            ]
          },
          "metadata": {},
          "execution_count": 22
        }
      ]
    },
    {
      "cell_type": "code",
      "source": [
        "# P(A|~B,~E)\n",
        "panbe = model.predict_proba([{'Burglary':'0','Earthquake':'0'}])[0][2].parameters[0]['1']\n",
        "panbe"
      ],
      "metadata": {
        "colab": {
          "base_uri": "https://localhost:8080/"
        },
        "id": "qayGRSowB6e-",
        "outputId": "0430986e-e745-44bc-d2ee-4c780f61b54e"
      },
      "execution_count": 24,
      "outputs": [
        {
          "output_type": "execute_result",
          "data": {
            "text/plain": [
              "0.0010000000000006649"
            ]
          },
          "metadata": {},
          "execution_count": 24
        }
      ]
    },
    {
      "cell_type": "code",
      "source": [
        "# P(MC|A)\n",
        "pma = model.predict_proba([{'Alarm':'1'}])[0][4].parameters[0]['1']\n",
        "pma"
      ],
      "metadata": {
        "colab": {
          "base_uri": "https://localhost:8080/"
        },
        "id": "XSk2n79nDVBn",
        "outputId": "b28fd0eb-2342-41f4-fc1b-afe7bb9c2e0c"
      },
      "execution_count": 25,
      "outputs": [
        {
          "output_type": "execute_result",
          "data": {
            "text/plain": [
              "0.6999999999999998"
            ]
          },
          "metadata": {},
          "execution_count": 25
        }
      ]
    },
    {
      "cell_type": "code",
      "source": [
        "# P(JC,MC,A,~B,~E) = P(JC|A)*P(MC|A)*P(A|~B,~E)*P(~B)*P(~E)\n",
        "pnb = model.predict_proba([{'Burglary':'0'}])[0][1].parameters[0]['0']\n",
        "pne = model.predict_proba([{'Earthquake':'0'}])[0][0].parameters[0]['0']\n",
        "ans = pja*pma*panbe*pnb*pne\n",
        "ans"
      ],
      "metadata": {
        "colab": {
          "base_uri": "https://localhost:8080/"
        },
        "id": "aJluSpXhENQG",
        "outputId": "16a8993e-6566-449a-e1e7-cda4820c4297"
      },
      "execution_count": 35,
      "outputs": [
        {
          "output_type": "execute_result",
          "data": {
            "text/plain": [
              "0.0006281112600004167"
            ]
          },
          "metadata": {},
          "execution_count": 35
        }
      ]
    }
  ]
}