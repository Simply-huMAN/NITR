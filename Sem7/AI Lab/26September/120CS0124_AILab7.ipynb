{
 "cells": [
  {
   "cell_type": "code",
   "execution_count": 25,
   "metadata": {},
   "outputs": [
    {
     "name": "stdout",
     "output_type": "stream",
     "text": [
      "H:\t alpha: -inf, \tbeta: 3\n",
      "I:\t alpha: 3, \tbeta: inf\n",
      "D:\t alpha: 3, \tbeta: inf\n",
      "J:\t alpha: -inf, \tbeta: 3\n",
      "E:\t alpha: -inf, \tbeta: 3\n",
      "B:\t alpha: -inf, \tbeta: 3\n",
      "L:\t alpha: 3, \tbeta: inf\n",
      "M:\t alpha: 3, \tbeta: inf\n",
      "F:\t alpha: 3, \tbeta: inf\n",
      "C:\t alpha: 3, \tbeta: inf\n",
      "A:\t alpha: 3, \tbeta: inf\n",
      "Value: 3\n"
     ]
    }
   ],
   "source": [
    "# Maloth Aditya\n",
    "# 120CS0124\n",
    "# 26 September\n",
    "# Alpha-Beta Pruning\n",
    "\n",
    "class Node:\n",
    "    def __init__(self,name=None,value=None,children=None):\n",
    "        self.name = name\n",
    "        self.value = value\n",
    "        self.children = children\n",
    "    \n",
    "    def isLeaf(self):\n",
    "        #Checks if a node is a leaf node\n",
    "        return not self.children\n",
    "\n",
    "\n",
    "def maxValue(node,alpha,beta):\n",
    "\n",
    "    if node.isLeaf():\n",
    "        return node.value\n",
    "    value = -float(\"inf\")\n",
    "    for child in node.children:\n",
    "        value = max(value,minValue(child,alpha,beta))\n",
    "        if value >= beta:\n",
    "            print(f\"{node.name}:\\t alpha: {alpha}, \\tbeta: {beta}\")\n",
    "            return value        \n",
    "        alpha = max(alpha,value)\n",
    "    \n",
    "    print(f\"{node.name}:\\t alpha: {alpha}, \\tbeta: {beta}\")\n",
    "    return value\n",
    "\n",
    "def minValue(node,alpha,beta):\n",
    "\n",
    "    if node.isLeaf():\n",
    "        return node.value\n",
    "    value = float(\"inf\")\n",
    "    for child in node.children:\n",
    "        value = min(value,maxValue(child,alpha,beta))\n",
    "        if value <= alpha:\n",
    "            print(f\"{node.name}:\\t alpha: {alpha}, \\tbeta: {beta}\")\n",
    "            return value\n",
    "        beta = min(beta,value)\n",
    "    \n",
    "    print(f\"{node.name}:\\t alpha: {alpha}, \\tbeta: {beta}\")\n",
    "    return value\n",
    "\n",
    "def alphaBetaSearch(node):\n",
    "    return maxValue(node,-float(\"inf\"),float(\"inf\"))\n",
    "\n",
    "\n",
    "# main code\n",
    "tree = Node('A',children=[Node('B',children=[Node('D',children=[Node('H',children=[Node(value=3),Node(value=17)]),Node('I',children=[Node(value=2),Node(12)])]),Node('E',children=[Node('J',children=[Node(value=15)]),Node('K',children=[Node(value=25),Node(value=0)])])]),Node('C',children=[Node('F',children=[Node('L',children=[Node(value=2),Node(value=5)]),Node('M',children=[Node(value=3)])]),Node('G',children=[Node('N',children=[Node(value=2),Node(value=14)])])])])\n",
    "\n",
    "optimalValue = alphaBetaSearch(tree)\n",
    "print(f\"Value: {optimalValue}\")\n",
    "    "
   ]
  },
  {
   "cell_type": "code",
   "execution_count": null,
   "metadata": {},
   "outputs": [],
   "source": [
    "\n"
   ]
  },
  {
   "cell_type": "code",
   "execution_count": null,
   "metadata": {},
   "outputs": [],
   "source": []
  }
 ],
 "metadata": {
  "kernelspec": {
   "display_name": "Python 3",
   "language": "python",
   "name": "python3"
  },
  "language_info": {
   "codemirror_mode": {
    "name": "ipython",
    "version": 3
   },
   "file_extension": ".py",
   "mimetype": "text/x-python",
   "name": "python",
   "nbconvert_exporter": "python",
   "pygments_lexer": "ipython3",
   "version": "3.7.4"
  }
 },
 "nbformat": 4,
 "nbformat_minor": 2
}
